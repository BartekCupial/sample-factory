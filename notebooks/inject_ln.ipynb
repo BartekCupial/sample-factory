{
 "cells": [
  {
   "cell_type": "code",
   "execution_count": 1,
   "metadata": {},
   "outputs": [],
   "source": [
    "import torch\n",
    "import torch.nn as nn\n",
    "import numpy as np\n",
    "from sf_examples.nethack.models.scaled import CharColorEncoderResnet, ScaledNet\n",
    "from sf_examples.nethack.models.utils import model_layernorm, inject_layernorm_before_activation, linear_layernorm, sequential_layernorm, replace_batchnorm_with_layernorm"
   ]
  },
  {
   "cell_type": "markdown",
   "metadata": {},
   "source": [
    "# old"
   ]
  },
  {
   "cell_type": "code",
   "execution_count": 2,
   "metadata": {},
   "outputs": [],
   "source": [
    "# def replace_batchnorm_with_layernorm(module):\n",
    "#     for name, child in module.named_children():\n",
    "#         if isinstance(child, nn.BatchNorm2d):\n",
    "#             # Replace BatchNorm2d with LayerNorm\n",
    "#             num_features = child.num_features\n",
    "#             new_layer = nn.LayerNorm([num_features])\n",
    "#             setattr(module, name, new_layer)\n",
    "#         else:\n",
    "#             replace_batchnorm_with_layernorm(child)\n",
    "\n",
    "# def inject_layernorm_before_activation(module):   \n",
    "#     for name, child in module.named_children():\n",
    "#         if isinstance(child, nn.Sequential):\n",
    "#             new_children = []\n",
    "#             for i, (sub_name, sub_child) in enumerate(child.named_children()):\n",
    "#                 # Check if the next layer is an activation function and the current layer is not LayerNorm\n",
    "#                 new_children.append(sub_child)\n",
    "#                 if i+1 < len(child) and isinstance(child[i+1], (nn.ELU, nn.ReLU, nn.Tanh)) and not isinstance(child[i], nn.LayerNorm):\n",
    "#                     # Inject LayerNorm before activation function\n",
    "#                     if hasattr(sub_child, \"out_features\"):\n",
    "#                         features = [sub_child.out_features]\n",
    "#                     elif hasattr(sub_child, \"out_channels\"):\n",
    "#                         features = [sub_child.out_channels]\n",
    "#                     new_layer = nn.LayerNorm(features)\n",
    "#                     new_children.append(new_layer)\n",
    "#             setattr(module, name, nn.Sequential(*new_children))\n",
    "#         else:\n",
    "#             inject_layernorm_before_activation(child)\n",
    "\n",
    "# def remove_batchnorm_layers(module):\n",
    "#     for name, child in list(module.named_children()):\n",
    "#         if isinstance(child, nn.BatchNorm2d):\n",
    "#             # Remove the BatchNorm2d layer by deleting it\n",
    "#             delattr(module, name)\n",
    "#         elif isinstance(child, nn.Sequential):\n",
    "#             # Rebuild the Sequential container without BatchNorm2d layers\n",
    "#             new_children = []\n",
    "#             for sub_child in child.children():\n",
    "#                 if not isinstance(sub_child, nn.BatchNorm2d):\n",
    "#                     new_children.append(sub_child)\n",
    "#             # Recursively apply to nested Sequential containers\n",
    "#             new_sequential = nn.Sequential(*new_children)\n",
    "#             remove_batchnorm_layers(new_sequential)\n",
    "#             setattr(module, name, new_sequential)\n",
    "#         else:\n",
    "#             remove_batchnorm_layers(child)\n",
    "\n",
    "# def modify_model(model):\n",
    "#     replace_batchnorm_with_layernorm(model)\n",
    "#     inject_layernorm_before_activation(model)"
   ]
  },
  {
   "cell_type": "markdown",
   "metadata": {},
   "source": [
    "# new"
   ]
  },
  {
   "cell_type": "code",
   "execution_count": 2,
   "metadata": {},
   "outputs": [
    {
     "name": "stdout",
     "output_type": "stream",
     "text": [
      "/home/bartek/Workspace/ideas/sample-factory/sf_examples/nethack/render_utils/Hack-Regular.ttf\n"
     ]
    }
   ],
   "source": [
    "from sample_factory.cfg.arguments import load_from_checkpoint\n",
    "from sample_factory.utils.attr_dict import AttrDict\n",
    "from sample_factory.algo.utils.env_info import extract_env_info\n",
    "from sample_factory.algo.utils.make_env import make_env_func_batched\n",
    "\n",
    "from sf_examples.nethack.train_nethack import parse_nethack_args, register_nethack_components"
   ]
  },
  {
   "cell_type": "code",
   "execution_count": 3,
   "metadata": {},
   "outputs": [
    {
     "name": "stderr",
     "output_type": "stream",
     "text": [
      "\u001b[36m[2024-05-23 07:55:09,619][121495] register_encoder_factory: <function make_nethack_encoder at 0x70cd648dbd00>\u001b[0m\n",
      "\u001b[36m[2024-05-23 07:55:09,620][121495] register_actor_critic_factory: <function make_nethack_actor_critic at 0x70cd648dbeb0>\u001b[0m\n"
     ]
    }
   ],
   "source": [
    "env_name = \"challenge\"\n",
    "register_nethack_components()\n",
    "cfg = parse_nethack_args(\n",
    "    [\n",
    "        f\"--env={env_name}\",\n",
    "    ]\n",
    ")"
   ]
  },
  {
   "cell_type": "code",
   "execution_count": 4,
   "metadata": {},
   "outputs": [],
   "source": [
    "env = make_env_func_batched(cfg, env_config=AttrDict(worker_index=0, vector_index=0, env_id=0))\n",
    "env_info = extract_env_info(env, cfg)\n",
    "\n",
    "obs_space = env_info.obs_space"
   ]
  },
  {
   "cell_type": "code",
   "execution_count": 5,
   "metadata": {},
   "outputs": [],
   "source": [
    "model = ScaledNet(cfg, obs_space=obs_space)"
   ]
  },
  {
   "cell_type": "code",
   "execution_count": 13,
   "metadata": {},
   "outputs": [
    {
     "data": {
      "text/plain": [
       "tensor([[0.0000, 0.0812, 0.0000,  ..., 0.0000, 0.0000, 0.0000]],\n",
       "       grad_fn=<ReluBackward0>)"
      ]
     },
     "execution_count": 13,
     "metadata": {},
     "output_type": "execute_result"
    }
   ],
   "source": [
    "# Function to register hooks\n",
    "handles = []\n",
    "\n",
    "def register_hooks(model):\n",
    "    def hook(module, input, output):\n",
    "        module.output_shape = output.shape\n",
    "        # print(f\"{module.__class__.__name__} output shape: {output.shape}\")\n",
    "\n",
    "    for name, child in model.named_children():\n",
    "        if isinstance(child, (nn.Linear, nn.Conv1d, nn.Conv2d)):\n",
    "            handle = child.register_forward_hook(hook)\n",
    "            handles.append(handle)\n",
    "        else:\n",
    "            register_hooks(child)\n",
    "\n",
    "model = ScaledNet(cfg, obs_space=obs_space)\n",
    "\n",
    "register_hooks(model)\n",
    "\n",
    "obs, info = env.reset()\n",
    "\n",
    "model(obs)"
   ]
  },
  {
   "cell_type": "code",
   "execution_count": 14,
   "metadata": {},
   "outputs": [],
   "source": [
    "replace_batchnorm_with_layernorm(model)\n",
    "inject_layernorm_before_activation(model)"
   ]
  },
  {
   "cell_type": "code",
   "execution_count": 16,
   "metadata": {},
   "outputs": [
    {
     "data": {
      "text/plain": [
       "tensor([[0.0000, 0.6838, 0.0000,  ..., 0.0000, 0.3041, 0.3730]],\n",
       "       grad_fn=<ReluBackward0>)"
      ]
     },
     "execution_count": 16,
     "metadata": {},
     "output_type": "execute_result"
    }
   ],
   "source": [
    "model(obs)"
   ]
  },
  {
   "cell_type": "code",
   "execution_count": null,
   "metadata": {},
   "outputs": [],
   "source": []
  }
 ],
 "metadata": {
  "kernelspec": {
   "display_name": "sf_nethack",
   "language": "python",
   "name": "python3"
  },
  "language_info": {
   "codemirror_mode": {
    "name": "ipython",
    "version": 3
   },
   "file_extension": ".py",
   "mimetype": "text/x-python",
   "name": "python",
   "nbconvert_exporter": "python",
   "pygments_lexer": "ipython3",
   "version": "3.10.13"
  }
 },
 "nbformat": 4,
 "nbformat_minor": 2
}

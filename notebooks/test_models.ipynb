{
 "cells": [
  {
   "cell_type": "code",
   "execution_count": 1,
   "metadata": {},
   "outputs": [
    {
     "name": "stdout",
     "output_type": "stream",
     "text": [
      "/home/bartek/Workspace/ideas/sample-factory/sf_examples/nethack/render_utils/Hack-Regular.ttf\n"
     ]
    }
   ],
   "source": [
    "import torch\n",
    "\n",
    "from sample_factory.cfg.arguments import load_from_checkpoint\n",
    "from sample_factory.utils.attr_dict import AttrDict\n",
    "from sample_factory.algo.utils.env_info import extract_env_info\n",
    "from sample_factory.algo.utils.make_env import make_env_func_batched\n",
    "from sample_factory.model.model_utils import get_rnn_size\n",
    "\n",
    "from sf_examples.nethack.train_nethack import parse_nethack_args, register_nethack_components, make_nethack_actor_critic"
   ]
  },
  {
   "cell_type": "code",
   "execution_count": 2,
   "metadata": {},
   "outputs": [
    {
     "name": "stderr",
     "output_type": "stream",
     "text": [
      "\u001b[36m[2024-05-23 12:14:15,550][13622] register_encoder_factory: <function make_nethack_encoder at 0x796bcf8df1c0>\u001b[0m\n",
      "\u001b[36m[2024-05-23 12:14:15,551][13622] register_actor_critic_factory: <function make_nethack_actor_critic at 0x796bcf8df370>\u001b[0m\n"
     ]
    }
   ],
   "source": [
    "env_name = \"challenge\"\n",
    "register_nethack_components()\n",
    "cfg = parse_nethack_args(\n",
    "    [\n",
    "        f\"--env={env_name}\",\n",
    "        \"--model=ScaledNet\",\n",
    "        \"--use_resnet=True\",\n",
    "        \"--h_dim=1738\",\n",
    "        \"--rnn_size=1738\",\n",
    "        \"--use_pretrained_checkpoint=True\",\n",
    "        \"--model_path=/home/bartek/Workspace/data/sf_checkpoints/amzn-AA-BC/pretrained_use_prev_action\",\n",
    "        \"--critic_add_layernorm=True\",\n",
    "        \"--use_prev_action=True\",\n",
    "        \"--actor_critic_share_weights=False\",\n",
    "    ]\n",
    ")"
   ]
  },
  {
   "cell_type": "code",
   "execution_count": 3,
   "metadata": {},
   "outputs": [],
   "source": [
    "env = make_env_func_batched(cfg, env_config=AttrDict(worker_index=0, vector_index=0, env_id=0))\n",
    "env_info = extract_env_info(env, cfg)\n",
    "\n",
    "obs_space = env_info.obs_space\n",
    "action_space = env.action_space\n",
    "obs, info = env.reset(seed=0)\n"
   ]
  },
  {
   "cell_type": "code",
   "execution_count": 5,
   "metadata": {},
   "outputs": [
    {
     "data": {
      "text/plain": [
       "tensor([[ 89, 111, 117,  32,  97, 114, 101,  32, 108, 117,  99, 107, 121,  33,\n",
       "          32,  32,  70, 117, 108, 108,  32, 109, 111, 111, 110,  32, 116, 111,\n",
       "         110, 105, 103, 104, 116,  46,   0,   0,   0,   0,   0,   0,   0,   0,\n",
       "           0,   0,   0,   0,   0,   0,   0,   0,   0,   0,   0,   0,   0,   0,\n",
       "           0,   0,   0,   0,   0,   0,   0,   0,   0,   0,   0,   0,   0,   0,\n",
       "           0,   0,   0,   0,   0,   0,   0,   0,   0,   0,   0,   0,   0,   0,\n",
       "           0,   0,   0,   0,   0,   0,   0,   0,   0,   0,   0,   0,   0,   0,\n",
       "           0,   0,   0,   0,   0,   0,   0,   0,   0,   0,   0,   0,   0,   0,\n",
       "           0,   0,   0,   0,   0,   0,   0,   0,   0,   0,   0,   0,   0,   0,\n",
       "           0,   0,   0,   0,   0,   0,   0,   0,   0,   0,   0,   0,   0,   0,\n",
       "           0,   0,   0,   0,   0,   0,   0,   0,   0,   0,   0,   0,   0,   0,\n",
       "           0,   0,   0,   0,   0,   0,   0,   0,   0,   0,   0,   0,   0,   0,\n",
       "           0,   0,   0,   0,   0,   0,   0,   0,   0,   0,   0,   0,   0,   0,\n",
       "           0,   0,   0,   0,   0,   0,   0,   0,   0,   0,   0,   0,   0,   0,\n",
       "           0,   0,   0,   0,   0,   0,   0,   0,   0,   0,   0,   0,   0,   0,\n",
       "           0,   0,   0,   0,   0,   0,   0,   0,   0,   0,   0,   0,   0,   0,\n",
       "           0,   0,   0,   0,   0,   0,   0,   0,   0,   0,   0,   0,   0,   0,\n",
       "           0,   0,   0,   0,   0,   0,   0,   0,   0,   0,   0,   0,   0,   0,\n",
       "           0,   0,   0,   0]], dtype=torch.uint8)"
      ]
     },
     "execution_count": 5,
     "metadata": {},
     "output_type": "execute_result"
    }
   ],
   "source": [
    "obs[\"message\"]"
   ]
  },
  {
   "cell_type": "code",
   "execution_count": 6,
   "metadata": {},
   "outputs": [
    {
     "name": "stderr",
     "output_type": "stream",
     "text": [
      "\u001b[36m[2024-05-23 12:14:19,279][13622] RunningMeanStd input shape: (1,)\u001b[0m\n",
      "\u001b[36m[2024-05-23 12:14:20,001][13622] RunningMeanStd input shape: (1,)\u001b[0m\n",
      "\u001b[33m[2024-05-23 12:14:20,325][13622] Loading state from checkpoint /home/bartek/Workspace/data/sf_checkpoints/amzn-AA-BC/pretrained_use_prev_action/checkpoint_p0/checkpoint_000000000_0.pth...\u001b[0m\n",
      "\u001b[36m[2024-05-23 12:14:20,418][13622] RunningMeanStd input shape: (1,)\u001b[0m\n",
      "\u001b[36m[2024-05-23 12:14:24,685][13622] Loading model from pretrained checkpoint\u001b[0m\n"
     ]
    }
   ],
   "source": [
    "shared_layer_rnn_states = torch.zeros([1, get_rnn_size(cfg)], dtype=torch.float32)\n",
    "shared_layer_model = make_nethack_actor_critic(cfg, obs_space, action_space)"
   ]
  },
  {
   "cell_type": "code",
   "execution_count": 7,
   "metadata": {},
   "outputs": [],
   "source": [
    "cfg = parse_nethack_args(\n",
    "    [\n",
    "        f\"--env={env_name}\",\n",
    "        \"--model=ScaledNet\",\n",
    "        \"--use_resnet=True\",\n",
    "        \"--h_dim=1738\",\n",
    "        \"--rnn_size=1738\",\n",
    "        \"--use_pretrained_checkpoint=True\",\n",
    "        \"--model_path=/home/bartek/Workspace/data/sf_checkpoints/amzn-AA-BC/pretrained_use_prev_action\",\n",
    "        \"--use_prev_action=True\",\n",
    "    ]\n",
    ")"
   ]
  },
  {
   "cell_type": "code",
   "execution_count": 8,
   "metadata": {},
   "outputs": [
    {
     "name": "stderr",
     "output_type": "stream",
     "text": [
      "\u001b[36m[2024-05-23 12:14:24,712][13622] RunningMeanStd input shape: (1,)\u001b[0m\n",
      "\u001b[33m[2024-05-23 12:14:25,012][13622] Loading state from checkpoint /home/bartek/Workspace/data/sf_checkpoints/amzn-AA-BC/pretrained_use_prev_action/checkpoint_p0/checkpoint_000000000_0.pth...\u001b[0m\n",
      "\u001b[36m[2024-05-23 12:14:25,101][13622] Loading model from pretrained checkpoint\u001b[0m\n"
     ]
    }
   ],
   "source": [
    "rnn_states = torch.zeros([1, get_rnn_size(cfg)], dtype=torch.float32)\n",
    "model = make_nethack_actor_critic(cfg, obs_space, action_space)"
   ]
  },
  {
   "cell_type": "code",
   "execution_count": 9,
   "metadata": {},
   "outputs": [
    {
     "data": {
      "text/plain": [
       "ActorCriticSeparateWeights(\n",
       "  (obs_normalizer): ObservationNormalizer()\n",
       "  (returns_normalizer): RecursiveScriptModule(original_name=RunningMeanStdInPlace)\n",
       "  (actor_encoder): ScaledNet(\n",
       "    (encoders): ModuleDict()\n",
       "    (crop): Crop()\n",
       "    (extract_crop_representation): Sequential(\n",
       "      (0): Conv2d(32, 16, kernel_size=(3, 3), stride=(1, 1), padding=(1, 1))\n",
       "      (1): BatchNorm2d(16, eps=1e-05, momentum=0.1, affine=True, track_running_stats=True)\n",
       "      (2): ELU(alpha=1.0)\n",
       "      (3): Conv2d(16, 16, kernel_size=(3, 3), stride=(1, 1), padding=(1, 1))\n",
       "      (4): BatchNorm2d(16, eps=1e-05, momentum=0.1, affine=True, track_running_stats=True)\n",
       "      (5): ELU(alpha=1.0)\n",
       "      (6): Conv2d(16, 16, kernel_size=(3, 3), stride=(1, 1), padding=(1, 1))\n",
       "      (7): BatchNorm2d(16, eps=1e-05, momentum=0.1, affine=True, track_running_stats=True)\n",
       "      (8): ELU(alpha=1.0)\n",
       "      (9): Conv2d(16, 16, kernel_size=(3, 3), stride=(1, 1), padding=(1, 1))\n",
       "      (10): BatchNorm2d(16, eps=1e-05, momentum=0.1, affine=True, track_running_stats=True)\n",
       "      (11): ELU(alpha=1.0)\n",
       "      (12): Conv2d(16, 8, kernel_size=(3, 3), stride=(1, 1), padding=(1, 1))\n",
       "      (13): BatchNorm2d(8, eps=1e-05, momentum=0.1, affine=True, track_running_stats=True)\n",
       "      (14): ELU(alpha=1.0)\n",
       "    )\n",
       "    (topline_encoder): TopLineEncoder(\n",
       "      (msg_fwd): Sequential(\n",
       "        (0): Linear(in_features=20480, out_features=64, bias=True)\n",
       "        (1): ELU(alpha=1.0, inplace=True)\n",
       "        (2): Linear(in_features=64, out_features=64, bias=True)\n",
       "        (3): ELU(alpha=1.0, inplace=True)\n",
       "      )\n",
       "    )\n",
       "    (bottomline_encoder): BottomLinesEncoder(\n",
       "      (conv_net): Sequential(\n",
       "        (0): Conv1d(2, 32, kernel_size=(8,), stride=(4,))\n",
       "        (1): ELU(alpha=1.0, inplace=True)\n",
       "        (2): Conv1d(32, 64, kernel_size=(4,), stride=(1,))\n",
       "        (3): ELU(alpha=1.0, inplace=True)\n",
       "      )\n",
       "      (fwd_net): Sequential(\n",
       "        (0): Linear(in_features=2304, out_features=128, bias=True)\n",
       "        (1): ELU(alpha=1.0)\n",
       "        (2): Linear(in_features=128, out_features=128, bias=True)\n",
       "        (3): ELU(alpha=1.0)\n",
       "      )\n",
       "    )\n",
       "    (screen_encoder): CharColorEncoderResnet(\n",
       "      (conv_net): Sequential(\n",
       "        (0): Sequential(\n",
       "          (0): Conv2d(32, 16, kernel_size=(3, 3), stride=(1, 1), padding=(1, 1))\n",
       "          (1): MaxPool2d(kernel_size=3, stride=2, padding=0, dilation=1, ceil_mode=False)\n",
       "          (2): ResBlock(\n",
       "            (net): Sequential(\n",
       "              (0): Conv2d(16, 16, kernel_size=(3, 3), stride=(1, 1), padding=(1, 1))\n",
       "              (1): BatchNorm2d(16, eps=1e-05, momentum=0.1, affine=True, track_running_stats=True)\n",
       "              (2): ELU(alpha=1.0, inplace=True)\n",
       "              (3): Conv2d(16, 16, kernel_size=(3, 3), stride=(1, 1), padding=(1, 1))\n",
       "              (4): BatchNorm2d(16, eps=1e-05, momentum=0.1, affine=True, track_running_stats=True)\n",
       "              (5): ELU(alpha=1.0, inplace=True)\n",
       "            )\n",
       "          )\n",
       "          (3): ResBlock(\n",
       "            (net): Sequential(\n",
       "              (0): Conv2d(16, 16, kernel_size=(3, 3), stride=(1, 1), padding=(1, 1))\n",
       "              (1): BatchNorm2d(16, eps=1e-05, momentum=0.1, affine=True, track_running_stats=True)\n",
       "              (2): ELU(alpha=1.0, inplace=True)\n",
       "              (3): Conv2d(16, 16, kernel_size=(3, 3), stride=(1, 1), padding=(1, 1))\n",
       "              (4): BatchNorm2d(16, eps=1e-05, momentum=0.1, affine=True, track_running_stats=True)\n",
       "              (5): ELU(alpha=1.0, inplace=True)\n",
       "            )\n",
       "          )\n",
       "        )\n",
       "        (1): Sequential(\n",
       "          (0): Conv2d(16, 32, kernel_size=(3, 3), stride=(1, 1), padding=(1, 1))\n",
       "          (1): MaxPool2d(kernel_size=3, stride=2, padding=0, dilation=1, ceil_mode=False)\n",
       "          (2): ResBlock(\n",
       "            (net): Sequential(\n",
       "              (0): Conv2d(32, 32, kernel_size=(3, 3), stride=(1, 1), padding=(1, 1))\n",
       "              (1): BatchNorm2d(32, eps=1e-05, momentum=0.1, affine=True, track_running_stats=True)\n",
       "              (2): ELU(alpha=1.0, inplace=True)\n",
       "              (3): Conv2d(32, 32, kernel_size=(3, 3), stride=(1, 1), padding=(1, 1))\n",
       "              (4): BatchNorm2d(32, eps=1e-05, momentum=0.1, affine=True, track_running_stats=True)\n",
       "              (5): ELU(alpha=1.0, inplace=True)\n",
       "            )\n",
       "          )\n",
       "          (3): ResBlock(\n",
       "            (net): Sequential(\n",
       "              (0): Conv2d(32, 32, kernel_size=(3, 3), stride=(1, 1), padding=(1, 1))\n",
       "              (1): BatchNorm2d(32, eps=1e-05, momentum=0.1, affine=True, track_running_stats=True)\n",
       "              (2): ELU(alpha=1.0, inplace=True)\n",
       "              (3): Conv2d(32, 32, kernel_size=(3, 3), stride=(1, 1), padding=(1, 1))\n",
       "              (4): BatchNorm2d(32, eps=1e-05, momentum=0.1, affine=True, track_running_stats=True)\n",
       "              (5): ELU(alpha=1.0, inplace=True)\n",
       "            )\n",
       "          )\n",
       "        )\n",
       "      )\n",
       "      (fc_head): Sequential(\n",
       "        (0): Linear(in_features=2432, out_features=512, bias=True)\n",
       "        (1): ELU(alpha=1.0, inplace=True)\n",
       "      )\n",
       "      (char_embeddings): Embedding(256, 16)\n",
       "      (color_embeddings): Embedding(128, 16)\n",
       "    )\n",
       "    (fc): Sequential(\n",
       "      (0): Linear(in_features=1473, out_features=1738, bias=True)\n",
       "      (1): ReLU()\n",
       "      (2): Linear(in_features=1738, out_features=1738, bias=True)\n",
       "      (3): ReLU()\n",
       "    )\n",
       "  )\n",
       "  (actor_core): ModelCoreRNN(\n",
       "    (core): LSTM(1738, 1738)\n",
       "  )\n",
       "  (critic_encoder): ScaledNet(\n",
       "    (encoders): ModuleDict()\n",
       "    (crop): Crop()\n",
       "    (extract_crop_representation): Sequential(\n",
       "      (0): Conv2d(32, 16, kernel_size=(3, 3), stride=(1, 1), padding=(1, 1))\n",
       "      (1): LayerNorm((16, 9, 9), eps=1e-05, elementwise_affine=True)\n",
       "      (2): ELU(alpha=1.0)\n",
       "      (3): Conv2d(16, 16, kernel_size=(3, 3), stride=(1, 1), padding=(1, 1))\n",
       "      (4): LayerNorm((16, 9, 9), eps=1e-05, elementwise_affine=True)\n",
       "      (5): Conv2d(16, 16, kernel_size=(3, 3), stride=(1, 1), padding=(1, 1))\n",
       "      (6): LayerNorm((16, 9, 9), eps=1e-05, elementwise_affine=True)\n",
       "      (7): Conv2d(16, 16, kernel_size=(3, 3), stride=(1, 1), padding=(1, 1))\n",
       "      (8): LayerNorm((16, 9, 9), eps=1e-05, elementwise_affine=True)\n",
       "      (9): Conv2d(16, 8, kernel_size=(3, 3), stride=(1, 1), padding=(1, 1))\n",
       "      (10): LayerNorm((8, 9, 9), eps=1e-05, elementwise_affine=True)\n",
       "    )\n",
       "    (topline_encoder): TopLineEncoder(\n",
       "      (msg_fwd): Sequential(\n",
       "        (0): Linear(in_features=20480, out_features=64, bias=True)\n",
       "        (1): LayerNorm((64,), eps=1e-05, elementwise_affine=True)\n",
       "        (2): ELU(alpha=1.0, inplace=True)\n",
       "        (3): Linear(in_features=64, out_features=64, bias=True)\n",
       "        (4): LayerNorm((64,), eps=1e-05, elementwise_affine=True)\n",
       "        (5): ELU(alpha=1.0, inplace=True)\n",
       "      )\n",
       "    )\n",
       "    (bottomline_encoder): BottomLinesEncoder(\n",
       "      (conv_net): Sequential(\n",
       "        (0): Conv1d(2, 32, kernel_size=(8,), stride=(4,))\n",
       "        (1): LayerNorm((32, 39), eps=1e-05, elementwise_affine=True)\n",
       "        (2): ELU(alpha=1.0, inplace=True)\n",
       "        (3): Conv1d(32, 64, kernel_size=(4,), stride=(1,))\n",
       "        (4): LayerNorm((64, 36), eps=1e-05, elementwise_affine=True)\n",
       "        (5): ELU(alpha=1.0, inplace=True)\n",
       "      )\n",
       "      (fwd_net): Sequential(\n",
       "        (0): Linear(in_features=2304, out_features=128, bias=True)\n",
       "        (1): LayerNorm((128,), eps=1e-05, elementwise_affine=True)\n",
       "        (2): ELU(alpha=1.0)\n",
       "        (3): Linear(in_features=128, out_features=128, bias=True)\n",
       "        (4): LayerNorm((128,), eps=1e-05, elementwise_affine=True)\n",
       "        (5): ELU(alpha=1.0)\n",
       "      )\n",
       "    )\n",
       "    (screen_encoder): CharColorEncoderResnet(\n",
       "      (conv_net): Sequential(\n",
       "        (0): Sequential(\n",
       "          (0): Conv2d(32, 16, kernel_size=(3, 3), stride=(1, 1), padding=(1, 1))\n",
       "          (1): MaxPool2d(kernel_size=3, stride=2, padding=0, dilation=1, ceil_mode=False)\n",
       "          (2): ResBlock(\n",
       "            (net): Sequential(\n",
       "              (0): Conv2d(16, 16, kernel_size=(3, 3), stride=(1, 1), padding=(1, 1))\n",
       "              (1): LayerNorm((16, 10, 39), eps=1e-05, elementwise_affine=True)\n",
       "              (2): ELU(alpha=1.0, inplace=True)\n",
       "              (3): Conv2d(16, 16, kernel_size=(3, 3), stride=(1, 1), padding=(1, 1))\n",
       "              (4): LayerNorm((16, 10, 39), eps=1e-05, elementwise_affine=True)\n",
       "              (5): ELU(alpha=1.0, inplace=True)\n",
       "            )\n",
       "          )\n",
       "          (3): ResBlock(\n",
       "            (net): Sequential(\n",
       "              (0): Conv2d(16, 16, kernel_size=(3, 3), stride=(1, 1), padding=(1, 1))\n",
       "              (1): LayerNorm((16, 10, 39), eps=1e-05, elementwise_affine=True)\n",
       "              (2): ELU(alpha=1.0, inplace=True)\n",
       "              (3): Conv2d(16, 16, kernel_size=(3, 3), stride=(1, 1), padding=(1, 1))\n",
       "              (4): LayerNorm((16, 10, 39), eps=1e-05, elementwise_affine=True)\n",
       "              (5): ELU(alpha=1.0, inplace=True)\n",
       "            )\n",
       "          )\n",
       "        )\n",
       "        (1): Sequential(\n",
       "          (0): Conv2d(16, 32, kernel_size=(3, 3), stride=(1, 1), padding=(1, 1))\n",
       "          (1): MaxPool2d(kernel_size=3, stride=2, padding=0, dilation=1, ceil_mode=False)\n",
       "          (2): ResBlock(\n",
       "            (net): Sequential(\n",
       "              (0): Conv2d(32, 32, kernel_size=(3, 3), stride=(1, 1), padding=(1, 1))\n",
       "              (1): LayerNorm((32, 4, 19), eps=1e-05, elementwise_affine=True)\n",
       "              (2): ELU(alpha=1.0, inplace=True)\n",
       "              (3): Conv2d(32, 32, kernel_size=(3, 3), stride=(1, 1), padding=(1, 1))\n",
       "              (4): LayerNorm((32, 4, 19), eps=1e-05, elementwise_affine=True)\n",
       "              (5): ELU(alpha=1.0, inplace=True)\n",
       "            )\n",
       "          )\n",
       "          (3): ResBlock(\n",
       "            (net): Sequential(\n",
       "              (0): Conv2d(32, 32, kernel_size=(3, 3), stride=(1, 1), padding=(1, 1))\n",
       "              (1): LayerNorm((32, 4, 19), eps=1e-05, elementwise_affine=True)\n",
       "              (2): ELU(alpha=1.0, inplace=True)\n",
       "              (3): Conv2d(32, 32, kernel_size=(3, 3), stride=(1, 1), padding=(1, 1))\n",
       "              (4): LayerNorm((32, 4, 19), eps=1e-05, elementwise_affine=True)\n",
       "              (5): ELU(alpha=1.0, inplace=True)\n",
       "            )\n",
       "          )\n",
       "        )\n",
       "      )\n",
       "      (fc_head): Sequential(\n",
       "        (0): Linear(in_features=2432, out_features=512, bias=True)\n",
       "        (1): LayerNorm((512,), eps=1e-05, elementwise_affine=True)\n",
       "        (2): ELU(alpha=1.0, inplace=True)\n",
       "      )\n",
       "      (char_embeddings): Embedding(256, 16)\n",
       "      (color_embeddings): Embedding(128, 16)\n",
       "    )\n",
       "    (fc): Sequential(\n",
       "      (0): Linear(in_features=1473, out_features=1738, bias=True)\n",
       "      (1): LayerNorm((1738,), eps=1e-05, elementwise_affine=True)\n",
       "      (2): ReLU()\n",
       "      (3): Linear(in_features=1738, out_features=1738, bias=True)\n",
       "      (4): LayerNorm((1738,), eps=1e-05, elementwise_affine=True)\n",
       "      (5): ReLU()\n",
       "    )\n",
       "  )\n",
       "  (critic_core): ModelCoreRNN(\n",
       "    (core): LSTM(1738, 1738)\n",
       "  )\n",
       "  (actor_decoder): MlpDecoder(\n",
       "    (mlp): Identity()\n",
       "  )\n",
       "  (critic_decoder): MlpDecoder(\n",
       "    (mlp): Identity()\n",
       "  )\n",
       "  (critic_linear): Sequential(\n",
       "    (0): LayerNorm((1738,), eps=1e-05, elementwise_affine=True)\n",
       "    (1): Linear(in_features=1738, out_features=1, bias=True)\n",
       "  )\n",
       "  (action_parameterization): ActionParameterizationDefault(\n",
       "    (distribution_linear): Linear(in_features=1738, out_features=121, bias=True)\n",
       "  )\n",
       ")"
      ]
     },
     "execution_count": 9,
     "metadata": {},
     "output_type": "execute_result"
    }
   ],
   "source": [
    "model.train(False)\n",
    "shared_layer_model.train(False)"
   ]
  },
  {
   "cell_type": "code",
   "execution_count": 10,
   "metadata": {},
   "outputs": [
    {
     "data": {
      "text/plain": [
       "{'values': tensor(1.4808, grad_fn=<SqueezeBackward0>),\n",
       " 'action_logits': tensor([[ -2.2515,  -4.4662,  -0.5797, -15.9201,  -5.3243,  -5.1846,  -4.3019,\n",
       "          -13.0410, -18.8946, -14.5667, -23.9047,  -8.6105, -15.8444, -15.6841,\n",
       "          -14.1679, -19.4248,  -9.3098,  -9.8468, -13.1831, -10.7035,   1.4208,\n",
       "           -9.9007,  -9.9138,  -9.7891,  -0.1878,  -6.8914, -10.2171,  -8.3538,\n",
       "          -13.7015,  -9.8290, -10.0067,  -9.7272,  -8.8228,  -8.7647,  -3.5368,\n",
       "           -0.0560,  -7.4556,  -3.8298,   4.3536, -11.7893, -13.2708,  -9.8700,\n",
       "           -9.7792, -14.2080, -11.0493, -18.7960, -10.0035,  -9.8139,  -3.3948,\n",
       "            5.1919,  -9.7495,   0.0995,  -4.6482,  -9.8573, -10.1714,  -7.5221,\n",
       "          -13.4136,  -8.8625, -14.6437,  -9.8632, -14.1097,  -2.9114,  -2.5040,\n",
       "          -19.4561,  -9.7901,  -9.2849, -15.3096, -12.5556,  -9.7538,  -7.3811,\n",
       "           -9.6222,  -9.8859, -10.6870, -17.8891, -15.7483,  -1.5771,  -9.6279,\n",
       "           -9.6801,  -9.8373,  -9.8153,  -9.6897,  -9.7628,  -9.6993,  -9.8198,\n",
       "           -9.6386,  -9.6302,  -9.8777, -15.8414,  -6.7526,  -7.1526,  -9.9007,\n",
       "           -4.0047,  -9.8463,  -9.7450,  -9.7865, -18.8057,  -9.7289,  -9.7405,\n",
       "          -12.4991, -11.4084,  -9.8044,  -5.2834,  -8.7001,  -9.8272,  -6.5156,\n",
       "          -15.3731, -17.0213, -11.1249,  -9.7714,  -9.9349, -10.0356,  -5.8355,\n",
       "           -7.2152,  -7.8214, -10.5306,  -1.5331, -13.0303, -13.9409, -14.1977,\n",
       "          -13.8762, -14.6554]], grad_fn=<AddmmBackward0>),\n",
       " 'log_prob_actions': tensor([-1.2298], grad_fn=<ViewBackward0>),\n",
       " 'actions': tensor([38]),\n",
       " 'new_rnn_states': tensor([[ 0.0005,  0.1426, -0.0476,  ...,  0.2250, -0.0634,  0.1263]],\n",
       "        grad_fn=<CatBackward0>)}"
      ]
     },
     "execution_count": 10,
     "metadata": {},
     "output_type": "execute_result"
    }
   ],
   "source": [
    "shared_layer_model(obs, shared_layer_rnn_states)"
   ]
  },
  {
   "cell_type": "code",
   "execution_count": 11,
   "metadata": {},
   "outputs": [
    {
     "data": {
      "text/plain": [
       "{'values': tensor(0.5157, grad_fn=<SqueezeBackward0>),\n",
       " 'action_logits': tensor([[ -2.2515,  -4.4662,  -0.5797, -15.9201,  -5.3243,  -5.1846,  -4.3019,\n",
       "          -13.0410, -18.8946, -14.5667, -23.9047,  -8.6105, -15.8444, -15.6841,\n",
       "          -14.1679, -19.4248,  -9.3098,  -9.8468, -13.1831, -10.7035,   1.4208,\n",
       "           -9.9007,  -9.9138,  -9.7891,  -0.1878,  -6.8914, -10.2171,  -8.3538,\n",
       "          -13.7015,  -9.8290, -10.0067,  -9.7272,  -8.8228,  -8.7647,  -3.5368,\n",
       "           -0.0560,  -7.4556,  -3.8298,   4.3536, -11.7893, -13.2708,  -9.8700,\n",
       "           -9.7792, -14.2080, -11.0493, -18.7960, -10.0035,  -9.8139,  -3.3948,\n",
       "            5.1919,  -9.7495,   0.0995,  -4.6482,  -9.8573, -10.1714,  -7.5221,\n",
       "          -13.4136,  -8.8625, -14.6437,  -9.8632, -14.1097,  -2.9114,  -2.5040,\n",
       "          -19.4561,  -9.7901,  -9.2849, -15.3096, -12.5556,  -9.7538,  -7.3811,\n",
       "           -9.6222,  -9.8859, -10.6870, -17.8891, -15.7483,  -1.5771,  -9.6279,\n",
       "           -9.6801,  -9.8373,  -9.8153,  -9.6897,  -9.7628,  -9.6993,  -9.8198,\n",
       "           -9.6386,  -9.6302,  -9.8777, -15.8414,  -6.7526,  -7.1526,  -9.9007,\n",
       "           -4.0047,  -9.8463,  -9.7450,  -9.7865, -18.8057,  -9.7289,  -9.7405,\n",
       "          -12.4991, -11.4084,  -9.8044,  -5.2834,  -8.7001,  -9.8272,  -6.5156,\n",
       "          -15.3731, -17.0213, -11.1249,  -9.7714,  -9.9349, -10.0356,  -5.8355,\n",
       "           -7.2152,  -7.8214, -10.5306,  -1.5331, -13.0303, -13.9409, -14.1977,\n",
       "          -13.8762, -14.6554]], grad_fn=<AddmmBackward0>),\n",
       " 'log_prob_actions': tensor([-0.3915], grad_fn=<ViewBackward0>),\n",
       " 'actions': tensor([49]),\n",
       " 'new_rnn_states': tensor([[ 0.0005,  0.1426, -0.0476,  ..., -0.0703,  0.1575, -0.2362]],\n",
       "        grad_fn=<SqueezeBackward1>)}"
      ]
     },
     "execution_count": 11,
     "metadata": {},
     "output_type": "execute_result"
    }
   ],
   "source": [
    "model(obs, rnn_states)"
   ]
  },
  {
   "cell_type": "code",
   "execution_count": null,
   "metadata": {},
   "outputs": [],
   "source": []
  },
  {
   "cell_type": "code",
   "execution_count": null,
   "metadata": {},
   "outputs": [],
   "source": []
  },
  {
   "cell_type": "code",
   "execution_count": 11,
   "metadata": {},
   "outputs": [
    {
     "data": {
      "text/plain": [
       "{'values': tensor(-1.2610, grad_fn=<SqueezeBackward0>),\n",
       " 'action_logits': tensor([[ -2.2515,  -4.4662,  -0.5797, -15.9201,  -5.3243,  -5.1846,  -4.3019,\n",
       "          -13.0410, -18.8946, -14.5667, -23.9047,  -8.6105, -15.8444, -15.6841,\n",
       "          -14.1679, -19.4248,  -9.3098,  -9.8468, -13.1831, -10.7035,   1.4208,\n",
       "           -9.9007,  -9.9138,  -9.7891,  -0.1878,  -6.8914, -10.2171,  -8.3538,\n",
       "          -13.7015,  -9.8290, -10.0067,  -9.7272,  -8.8228,  -8.7647,  -3.5368,\n",
       "           -0.0560,  -7.4556,  -3.8298,   4.3536, -11.7893, -13.2708,  -9.8700,\n",
       "           -9.7792, -14.2080, -11.0493, -18.7960, -10.0035,  -9.8139,  -3.3948,\n",
       "            5.1919,  -9.7495,   0.0995,  -4.6482,  -9.8573, -10.1714,  -7.5221,\n",
       "          -13.4136,  -8.8625, -14.6437,  -9.8632, -14.1097,  -2.9114,  -2.5040,\n",
       "          -19.4561,  -9.7901,  -9.2849, -15.3096, -12.5556,  -9.7538,  -7.3811,\n",
       "           -9.6222,  -9.8859, -10.6870, -17.8891, -15.7483,  -1.5771,  -9.6279,\n",
       "           -9.6801,  -9.8373,  -9.8153,  -9.6897,  -9.7628,  -9.6993,  -9.8198,\n",
       "           -9.6386,  -9.6302,  -9.8777, -15.8414,  -6.7526,  -7.1526,  -9.9007,\n",
       "           -4.0047,  -9.8463,  -9.7450,  -9.7865, -18.8057,  -9.7289,  -9.7405,\n",
       "          -12.4991, -11.4084,  -9.8044,  -5.2834,  -8.7001,  -9.8272,  -6.5156,\n",
       "          -15.3731, -17.0213, -11.1249,  -9.7714,  -9.9349, -10.0356,  -5.8355,\n",
       "           -7.2152,  -7.8214, -10.5306,  -1.5331, -13.0303, -13.9409, -14.1977,\n",
       "          -13.8762, -14.6554]], grad_fn=<AddmmBackward0>),\n",
       " 'log_prob_actions': tensor([-0.3915], grad_fn=<ViewBackward0>),\n",
       " 'actions': tensor([49]),\n",
       " 'new_rnn_states': tensor([[ 0.0005,  0.1426, -0.0476,  ..., -0.1291, -0.3127, -0.2379]],\n",
       "        grad_fn=<CatBackward0>)}"
      ]
     },
     "execution_count": 11,
     "metadata": {},
     "output_type": "execute_result"
    }
   ],
   "source": [
    "shared_layer_model(obs, shared_layer_rnn_states)"
   ]
  },
  {
   "cell_type": "code",
   "execution_count": 12,
   "metadata": {},
   "outputs": [
    {
     "data": {
      "text/plain": [
       "torch.Size([1, 3476])"
      ]
     },
     "execution_count": 12,
     "metadata": {},
     "output_type": "execute_result"
    }
   ],
   "source": [
    "rnn_states.shape"
   ]
  },
  {
   "cell_type": "code",
   "execution_count": 13,
   "metadata": {},
   "outputs": [
    {
     "data": {
      "text/plain": [
       "{'values': tensor(0.1449, grad_fn=<SqueezeBackward0>),\n",
       " 'action_logits': tensor([[ -2.2515,  -4.4662,  -0.5797, -15.9201,  -5.3243,  -5.1846,  -4.3019,\n",
       "          -13.0410, -18.8946, -14.5667, -23.9047,  -8.6105, -15.8444, -15.6841,\n",
       "          -14.1679, -19.4248,  -9.3098,  -9.8468, -13.1831, -10.7035,   1.4208,\n",
       "           -9.9007,  -9.9138,  -9.7891,  -0.1878,  -6.8914, -10.2171,  -8.3538,\n",
       "          -13.7015,  -9.8290, -10.0067,  -9.7272,  -8.8228,  -8.7647,  -3.5368,\n",
       "           -0.0560,  -7.4556,  -3.8298,   4.3536, -11.7893, -13.2708,  -9.8700,\n",
       "           -9.7792, -14.2080, -11.0493, -18.7960, -10.0035,  -9.8139,  -3.3948,\n",
       "            5.1919,  -9.7495,   0.0995,  -4.6482,  -9.8573, -10.1714,  -7.5221,\n",
       "          -13.4136,  -8.8625, -14.6437,  -9.8632, -14.1097,  -2.9114,  -2.5040,\n",
       "          -19.4561,  -9.7901,  -9.2849, -15.3096, -12.5556,  -9.7538,  -7.3811,\n",
       "           -9.6222,  -9.8859, -10.6870, -17.8891, -15.7483,  -1.5771,  -9.6279,\n",
       "           -9.6801,  -9.8373,  -9.8153,  -9.6897,  -9.7628,  -9.6993,  -9.8198,\n",
       "           -9.6386,  -9.6302,  -9.8777, -15.8414,  -6.7526,  -7.1526,  -9.9007,\n",
       "           -4.0047,  -9.8463,  -9.7450,  -9.7865, -18.8057,  -9.7289,  -9.7405,\n",
       "          -12.4991, -11.4084,  -9.8044,  -5.2834,  -8.7001,  -9.8272,  -6.5156,\n",
       "          -15.3731, -17.0213, -11.1249,  -9.7714,  -9.9349, -10.0356,  -5.8355,\n",
       "           -7.2152,  -7.8214, -10.5306,  -1.5331, -13.0303, -13.9409, -14.1977,\n",
       "          -13.8762, -14.6554]], grad_fn=<AddmmBackward0>),\n",
       " 'log_prob_actions': tensor([-0.3915], grad_fn=<ViewBackward0>),\n",
       " 'actions': tensor([49]),\n",
       " 'new_rnn_states': tensor([[ 0.0005,  0.1426, -0.0476,  ..., -0.0703,  0.1575, -0.2362]],\n",
       "        grad_fn=<SqueezeBackward1>)}"
      ]
     },
     "execution_count": 13,
     "metadata": {},
     "output_type": "execute_result"
    }
   ],
   "source": [
    "model(obs, rnn_states)"
   ]
  },
  {
   "cell_type": "code",
   "execution_count": null,
   "metadata": {},
   "outputs": [],
   "source": []
  }
 ],
 "metadata": {
  "kernelspec": {
   "display_name": "sf_nethack",
   "language": "python",
   "name": "python3"
  },
  "language_info": {
   "codemirror_mode": {
    "name": "ipython",
    "version": 3
   },
   "file_extension": ".py",
   "mimetype": "text/x-python",
   "name": "python",
   "nbconvert_exporter": "python",
   "pygments_lexer": "ipython3",
   "version": "3.10.13"
  }
 },
 "nbformat": 4,
 "nbformat_minor": 2
}

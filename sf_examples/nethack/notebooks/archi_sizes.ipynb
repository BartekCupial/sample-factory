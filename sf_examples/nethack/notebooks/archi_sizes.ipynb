{
 "cells": [
  {
   "cell_type": "code",
   "execution_count": 11,
   "metadata": {},
   "outputs": [],
   "source": [
    "import pandas as pd\n",
    "\n",
    "from sample_factory.algo.utils.env_info import extract_env_info\n",
    "from sample_factory.algo.utils.make_env import make_env_func_batched\n",
    "from sample_factory.utils.attr_dict import AttrDict\n",
    "from sf_examples.nethack.train_nethack import parse_nethack_args, register_nethack_components\n",
    "from sf_examples.nethack.models.simba import SimBaEncoder\n",
    "from sf_examples.nethack.models.vit import ViTEncoder\n",
    "from sf_examples.nethack.models.chaotic_dwarf import ChaoticDwarvenGPT5"
   ]
  },
  {
   "cell_type": "code",
   "execution_count": 12,
   "metadata": {},
   "outputs": [
    {
     "name": "stderr",
     "output_type": "stream",
     "text": [
      "\u001b[33m[2025-01-26 18:43:01,984][139285] Environment nethack_progress already registered, overwriting...\u001b[0m\n",
      "\u001b[33m[2025-01-26 18:43:01,985][139285] Environment nethack_staircase already registered, overwriting...\u001b[0m\n",
      "\u001b[33m[2025-01-26 18:43:01,986][139285] Environment nethack_score already registered, overwriting...\u001b[0m\n",
      "\u001b[33m[2025-01-26 18:43:01,987][139285] Environment nethack_pet already registered, overwriting...\u001b[0m\n",
      "\u001b[33m[2025-01-26 18:43:01,987][139285] Environment nethack_oracle already registered, overwriting...\u001b[0m\n",
      "\u001b[33m[2025-01-26 18:43:01,988][139285] Environment nethack_gold already registered, overwriting...\u001b[0m\n",
      "\u001b[33m[2025-01-26 18:43:01,988][139285] Environment nethack_eat already registered, overwriting...\u001b[0m\n",
      "\u001b[33m[2025-01-26 18:43:01,989][139285] Environment nethack_scout already registered, overwriting...\u001b[0m\n",
      "\u001b[33m[2025-01-26 18:43:01,990][139285] Environment nethack_challenge already registered, overwriting...\u001b[0m\n",
      "\u001b[36m[2025-01-26 18:43:01,990][139285] register_encoder_factory: <function make_nethack_encoder at 0x7c09e64f0ca0>\u001b[0m\n",
      "\u001b[36m[2025-01-26 18:43:01,991][139285] register_actor_critic_factory: <function make_nethack_actor_critic at 0x7c09e64f0b80>\u001b[0m\n"
     ]
    }
   ],
   "source": [
    "register_nethack_components()\n",
    "cfg = parse_nethack_args(argv=[\"--env=nethack_score\", \"--add_image_observation=True\"])\n",
    "\n",
    "env = make_env_func_batched(cfg, env_config=AttrDict(worker_index=0, vector_index=0, env_id=0))\n",
    "env_info = extract_env_info(env, cfg)"
   ]
  },
  {
   "cell_type": "markdown",
   "metadata": {},
   "source": [
    "### SimBa"
   ]
  },
  {
   "cell_type": "code",
   "execution_count": 13,
   "metadata": {},
   "outputs": [
    {
     "name": "stdout",
     "output_type": "stream",
     "text": [
      "Hidden Dim   16     32     64     128    256     512      1024\n",
      "Depth                                                         \n",
      "1           0.02M  0.04M  0.11M  0.38M  1.44M   5.59M   22.06M\n",
      "2           0.02M  0.06M  0.18M  0.68M  2.64M  10.38M   41.20M\n",
      "3           0.03M  0.07M  0.26M  0.98M  3.83M  15.17M   60.34M\n",
      "4           0.03M  0.09M  0.33M  1.28M  5.03M  19.95M   79.48M\n",
      "6           0.04M  0.13M  0.48M  1.88M  7.43M  29.53M  117.77M\n",
      "8           0.05M  0.17M  0.64M  2.48M  9.82M  39.10M  156.05M\n"
     ]
    }
   ],
   "source": [
    "results = []\n",
    "for hidden_dim in [16, 32, 64, 128, 256, 512, 1024]:\n",
    "    for depth in [1, 2, 3, 4, 6, 8]:\n",
    "        model = SimBaEncoder(\n",
    "            obs_space=env_info.obs_space,\n",
    "            hidden_dim=hidden_dim,\n",
    "            depth=depth,\n",
    "            use_prev_action=cfg.use_prev_action,\n",
    "        )\n",
    "        total_params = sum(p.numel() for p in model.parameters())\n",
    "\n",
    "        results.append({\n",
    "            \"Hidden Dim\": hidden_dim,\n",
    "            \"Depth\": depth,\n",
    "            \"Model Size\": f\"{total_params / 10**6:.2f}M\"\n",
    "        })\n",
    "\n",
    "df = pd.DataFrame(results)\n",
    "pivot_table = df.pivot(index=\"Depth\", columns=\"Hidden Dim\", values=\"Model Size\")\n",
    "print(pivot_table)"
   ]
  },
  {
   "cell_type": "markdown",
   "metadata": {},
   "source": [
    "### ChaoticDwarven"
   ]
  },
  {
   "cell_type": "code",
   "execution_count": 4,
   "metadata": {},
   "outputs": [
    {
     "name": "stdout",
     "output_type": "stream",
     "text": [
      "Model Size: 3.28M\n"
     ]
    }
   ],
   "source": [
    "from sf_examples.nethack.models import ChaoticDwarvenGPT5\n",
    "\n",
    "model = ChaoticDwarvenGPT5(cfg, env_info.obs_space)\n",
    "total_params = sum(p.numel() for p in model.parameters())\n",
    "print(f\"Model Size: {total_params / 10**6:.2f}M\")"
   ]
  },
  {
   "cell_type": "markdown",
   "metadata": {},
   "source": [
    "### ViT"
   ]
  },
  {
   "cell_type": "code",
   "execution_count": 10,
   "metadata": {},
   "outputs": [
    {
     "name": "stdout",
     "output_type": "stream",
     "text": [
      "Hidden Dim    16     32     64     128    256     512\n",
      "Depth                                                \n",
      "1           0.41M  0.82M  1.65M  3.37M  7.07M  15.43M\n",
      "2           0.45M  0.89M  1.80M  3.70M  7.85M  17.53M\n",
      "3           0.48M  0.96M  1.95M  4.03M  8.64M  19.63M\n",
      "4           0.51M  1.03M  2.09M  4.36M  9.43M  21.74M\n"
     ]
    }
   ],
   "source": [
    "results = []\n",
    "for hidden_dim in [16, 32, 64, 128, 256, 512]:\n",
    "    for depth in [1, 2, 3, 4]:\n",
    "        model = ViTEncoder(\n",
    "            obs_space=env_info.obs_space,\n",
    "            hidden_dim=hidden_dim,\n",
    "            depth=depth,\n",
    "            heads=8,\n",
    "            mlp_dim=hidden_dim * 2,\n",
    "            use_prev_action=cfg.use_prev_action,\n",
    "        )\n",
    "        total_params = sum(p.numel() for p in model.parameters())\n",
    "\n",
    "        results.append({\n",
    "            \"Hidden Dim\": hidden_dim,\n",
    "            \"Depth\": depth,\n",
    "            \"Model Size\": f\"{total_params / 10**6:.2f}M\"\n",
    "        })\n",
    "\n",
    "df = pd.DataFrame(results)\n",
    "pivot_table = df.pivot(index=\"Depth\", columns=\"Hidden Dim\", values=\"Model Size\")\n",
    "print(pivot_table)"
   ]
  },
  {
   "cell_type": "code",
   "execution_count": null,
   "metadata": {},
   "outputs": [],
   "source": []
  }
 ],
 "metadata": {
  "kernelspec": {
   "display_name": "sf_nethack",
   "language": "python",
   "name": "python3"
  },
  "language_info": {
   "codemirror_mode": {
    "name": "ipython",
    "version": 3
   },
   "file_extension": ".py",
   "mimetype": "text/x-python",
   "name": "python",
   "nbconvert_exporter": "python",
   "pygments_lexer": "ipython3",
   "version": "3.10.16"
  }
 },
 "nbformat": 4,
 "nbformat_minor": 2
}

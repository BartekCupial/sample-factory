{
 "cells": [
  {
   "cell_type": "code",
   "execution_count": 2,
   "metadata": {},
   "outputs": [],
   "source": [
    "import pandas as pd\n",
    "\n",
    "from sample_factory.algo.utils.env_info import extract_env_info\n",
    "from sample_factory.algo.utils.make_env import make_env_func_batched\n",
    "from sample_factory.utils.attr_dict import AttrDict\n",
    "from sf_examples.nethack.train_nethack import parse_nethack_args, register_nethack_components\n",
    "from sf_examples.nethack.models.simba import SimBaEncoder"
   ]
  },
  {
   "cell_type": "code",
   "execution_count": 3,
   "metadata": {},
   "outputs": [
    {
     "name": "stderr",
     "output_type": "stream",
     "text": [
      "\u001b[36m[2025-01-26 09:32:39,142][825930] register_encoder_factory: <function make_nethack_encoder at 0x71519d7113f0>\u001b[0m\n",
      "\u001b[36m[2025-01-26 09:32:39,144][825930] register_actor_critic_factory: <function make_nethack_actor_critic at 0x71519d7112d0>\u001b[0m\n"
     ]
    }
   ],
   "source": [
    "register_nethack_components()\n",
    "cfg = parse_nethack_args(argv=[\"--env=nethack_score\", \"--add_image_observation=True\"])\n",
    "\n",
    "env = make_env_func_batched(cfg, env_config=AttrDict(worker_index=0, vector_index=0, env_id=0))\n",
    "env_info = extract_env_info(env, cfg)"
   ]
  },
  {
   "cell_type": "code",
   "execution_count": 4,
   "metadata": {},
   "outputs": [
    {
     "name": "stdout",
     "output_type": "stream",
     "text": [
      "Hidden Dim    16     32     64     128     256     512\n",
      "Depth                                                 \n",
      "1           0.39M  0.78M  1.59M  3.35M   7.48M  18.09M\n",
      "2           0.39M  0.79M  1.66M  3.65M   8.66M  22.81M\n",
      "3           0.40M  0.81M  1.73M  3.94M   9.84M  27.53M\n",
      "4           0.40M  0.83M  1.81M  4.24M  11.02M  32.25M\n"
     ]
    }
   ],
   "source": [
    "results = []\n",
    "for hidden_dim in [16, 32, 64, 128, 256, 512]:\n",
    "    for depth in [1, 2, 3, 4]:\n",
    "        model = SimBaEncoder(\n",
    "            obs_space=env_info.obs_space,\n",
    "            hidden_dim=hidden_dim,\n",
    "            depth=depth,\n",
    "            use_prev_action=cfg.use_prev_action,\n",
    "        )\n",
    "        total_params = sum(p.numel() for p in model.parameters())\n",
    "\n",
    "        results.append({\n",
    "            \"Hidden Dim\": hidden_dim,\n",
    "            \"Depth\": depth,\n",
    "            \"Model Size\": f\"{total_params / 10**6:.2f}M\"\n",
    "        })\n",
    "\n",
    "df = pd.DataFrame(results)\n",
    "pivot_table = df.pivot(index=\"Depth\", columns=\"Hidden Dim\", values=\"Model Size\")\n",
    "print(pivot_table)"
   ]
  },
  {
   "cell_type": "code",
   "execution_count": null,
   "metadata": {},
   "outputs": [
    {
     "name": "stdout",
     "output_type": "stream",
     "text": [
      "Model Size: 3.28M\n"
     ]
    }
   ],
   "source": [
    "from sf_examples.nethack.models import ChaoticDwarvenGPT5\n",
    "\n",
    "model = ChaoticDwarvenGPT5(cfg, env_info.obs_space)\n",
    "total_params = sum(p.numel() for p in model.parameters())\n",
    "print(f\"Model Size: {total_params / 10**6:.2f}M\")"
   ]
  },
  {
   "cell_type": "code",
   "execution_count": null,
   "metadata": {},
   "outputs": [],
   "source": []
  }
 ],
 "metadata": {
  "kernelspec": {
   "display_name": "sf_nethack",
   "language": "python",
   "name": "python3"
  },
  "language_info": {
   "codemirror_mode": {
    "name": "ipython",
    "version": 3
   },
   "file_extension": ".py",
   "mimetype": "text/x-python",
   "name": "python",
   "nbconvert_exporter": "python",
   "pygments_lexer": "ipython3",
   "version": "3.10.16"
  }
 },
 "nbformat": 4,
 "nbformat_minor": 2
}

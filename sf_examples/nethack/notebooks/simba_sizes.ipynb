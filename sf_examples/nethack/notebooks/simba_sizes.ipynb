{
 "cells": [
  {
   "cell_type": "code",
   "execution_count": 10,
   "metadata": {},
   "outputs": [],
   "source": [
    "import pandas as pd\n",
    "\n",
    "from sample_factory.algo.utils.env_info import extract_env_info\n",
    "from sample_factory.algo.utils.make_env import make_env_func_batched\n",
    "from sample_factory.utils.attr_dict import AttrDict\n",
    "from sf_examples.nethack.train_nethack import parse_nethack_args, register_nethack_components\n",
    "from sf_examples.nethack.models.simba import SimBaEncoder"
   ]
  },
  {
   "cell_type": "code",
   "execution_count": 5,
   "metadata": {},
   "outputs": [
    {
     "name": "stderr",
     "output_type": "stream",
     "text": [
      "\u001b[33m[2025-01-26 08:25:41,847][2216020] Environment nethack_progress already registered, overwriting...\u001b[0m\n",
      "\u001b[33m[2025-01-26 08:25:41,848][2216020] Environment nethack_staircase already registered, overwriting...\u001b[0m\n",
      "\u001b[33m[2025-01-26 08:25:41,848][2216020] Environment nethack_score already registered, overwriting...\u001b[0m\n",
      "\u001b[33m[2025-01-26 08:25:41,849][2216020] Environment nethack_pet already registered, overwriting...\u001b[0m\n",
      "\u001b[33m[2025-01-26 08:25:41,850][2216020] Environment nethack_oracle already registered, overwriting...\u001b[0m\n",
      "\u001b[33m[2025-01-26 08:25:41,851][2216020] Environment nethack_gold already registered, overwriting...\u001b[0m\n",
      "\u001b[33m[2025-01-26 08:25:41,851][2216020] Environment nethack_eat already registered, overwriting...\u001b[0m\n",
      "\u001b[33m[2025-01-26 08:25:41,852][2216020] Environment nethack_scout already registered, overwriting...\u001b[0m\n",
      "\u001b[33m[2025-01-26 08:25:41,852][2216020] Environment nethack_challenge already registered, overwriting...\u001b[0m\n",
      "\u001b[36m[2025-01-26 08:25:41,853][2216020] register_encoder_factory: <function make_nethack_encoder at 0x7a184aca7b50>\u001b[0m\n",
      "\u001b[36m[2025-01-26 08:25:41,853][2216020] register_actor_critic_factory: <function make_nethack_actor_critic at 0x7a184aca7a30>\u001b[0m\n"
     ]
    }
   ],
   "source": [
    "register_nethack_components()\n",
    "cfg = parse_nethack_args(argv=[\"--env=nethack_score\", \"--add_image_observation=True\"])\n",
    "\n",
    "env = make_env_func_batched(cfg, env_config=AttrDict(worker_index=0, vector_index=0, env_id=0))\n",
    "env_info = extract_env_info(env, cfg)"
   ]
  },
  {
   "cell_type": "code",
   "execution_count": 16,
   "metadata": {},
   "outputs": [
    {
     "name": "stdout",
     "output_type": "stream",
     "text": [
      "Hidden Dim    16     32     64     128     256     512\n",
      "Depth                                                 \n",
      "1           0.38M  0.77M  1.58M  3.35M   7.47M  18.08M\n",
      "2           0.39M  0.79M  1.65M  3.64M   8.65M  22.80M\n",
      "3           0.39M  0.81M  1.73M  3.94M   9.83M  27.52M\n",
      "4           0.40M  0.83M  1.80M  4.23M  11.02M  32.24M\n"
     ]
    }
   ],
   "source": [
    "results = []\n",
    "for hidden_dim in [16, 32, 64, 128, 256, 512]:\n",
    "    for depth in [1, 2, 3, 4]:\n",
    "        model = SimBaEncoder(\n",
    "            obs_space=env_info.obs_space,\n",
    "            hidden_dim=hidden_dim,\n",
    "            depth=depth,\n",
    "            use_prev_action=cfg.use_prev_action,\n",
    "        )\n",
    "        total_params = sum(p.numel() for p in model.parameters())\n",
    "\n",
    "        results.append({\n",
    "            \"Hidden Dim\": hidden_dim,\n",
    "            \"Depth\": depth,\n",
    "            \"Model Size\": f\"{total_params / 10**6:.2f}M\"\n",
    "        })\n",
    "\n",
    "df = pd.DataFrame(results)\n",
    "pivot_table = df.pivot(index=\"Depth\", columns=\"Hidden Dim\", values=\"Model Size\")\n",
    "print(pivot_table)"
   ]
  },
  {
   "cell_type": "code",
   "execution_count": null,
   "metadata": {},
   "outputs": [],
   "source": []
  }
 ],
 "metadata": {
  "kernelspec": {
   "display_name": "sf_nethack",
   "language": "python",
   "name": "python3"
  },
  "language_info": {
   "codemirror_mode": {
    "name": "ipython",
    "version": 3
   },
   "file_extension": ".py",
   "mimetype": "text/x-python",
   "name": "python",
   "nbconvert_exporter": "python",
   "pygments_lexer": "ipython3",
   "version": "3.10.16"
  }
 },
 "nbformat": 4,
 "nbformat_minor": 2
}
